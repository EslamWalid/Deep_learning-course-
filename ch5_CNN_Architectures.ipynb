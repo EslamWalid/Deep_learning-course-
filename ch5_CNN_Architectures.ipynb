{
  "nbformat": 4,
  "nbformat_minor": 0,
  "metadata": {
    "colab": {
      "name": "ch5_CNN_Architectures.ipynb",
      "provenance": [],
      "authorship_tag": "ABX9TyPRmFtUm5hUpVHMenX8V3rT",
      "include_colab_link": true
    },
    "kernelspec": {
      "name": "python3",
      "display_name": "Python 3"
    },
    "language_info": {
      "name": "python"
    },
    "accelerator": "GPU",
    "gpuClass": "standard"
  },
  "cells": [
    {
      "cell_type": "markdown",
      "metadata": {
        "id": "view-in-github",
        "colab_type": "text"
      },
      "source": [
        "<a href=\"https://colab.research.google.com/github/EslamWalid/Deep_learning_ITI/blob/main/ch5_CNN_Architectures.ipynb\" target=\"_parent\"><img src=\"https://colab.research.google.com/assets/colab-badge.svg\" alt=\"Open In Colab\"/></a>"
      ]
    },
    {
      "cell_type": "code",
      "execution_count": 1,
      "metadata": {
        "id": "3usPYZPuO8dC"
      },
      "outputs": [],
      "source": [
        "from keras import models , layers\n",
        "import keras "
      ]
    },
    {
      "cell_type": "code",
      "source": [
        "# LeNet Architecture from paper \n",
        "class LeNet(models.Sequential):\n",
        "  def __init__(self,input_shape,nb_classes):\n",
        "      super().__init__()\n",
        "      self.add(layers.Conv2D(6,kernel_size=(5,5),strides=(1,1),activation='tanh',input_shape=input_shape,padding='same'))\n",
        "      self.add(layers.AveragePooling2D(pool_size=(2,2),strides=(1,1),padding='valid'))\n",
        "      self.add(layers.Conv2D(16,kernel_size=(5,5),strides=(1,1),activation='tanh',padding='valid'))\n",
        "      self.add(layers.AveragePooling2D(pool_size=(2,2),strides=(2,2),padding='valid'))\n",
        "      self.add(layers.Conv2D(120,kernel_size=(5,5),strides=(1,1),activation='tanh',padding='valid'))\n",
        "      self.add(layers.Flatten())\n",
        "      self.add(layers.Dense(84,activation=\"tanh\"))\n",
        "      self.add(layers.Dense(nb_classes,activation=\"softmax\"))\n",
        "      self.compile(loss=keras.losses.categorical_crossentropy,optimizer=\"SGD\")\n",
        "      self.summary()"
      ],
      "metadata": {
        "id": "8O7Pm_IiSytL"
      },
      "execution_count": 2,
      "outputs": []
    },
    {
      "cell_type": "code",
      "source": [
        "from keras.models import Sequential\n",
        "#from keras.layers import Dense, Activation,Dropout, Flatten, Conv2D, MaxPooling2D\n",
        "from tensorflow.keras.layers import BatchNormalization,Dense, Activation,Dropout, Flatten, Conv2D, MaxPooling2D\n",
        "import numpy as np\n",
        "\n"
      ],
      "metadata": {
        "id": "A07GC4ghViof"
      },
      "execution_count": 3,
      "outputs": []
    },
    {
      "cell_type": "code",
      "source": [
        "np.random.seed(1000)\n",
        "#intiate model\n",
        "model=Sequential()\n",
        "#AlexNet Arch\n",
        "#1st conv layer\n",
        "model.add(Conv2D(96,input_shape=(224,244,3),kernel_size=(11,11),strides=(4,4),padding='valid'))\n",
        "model.add(Activation('relu'))\n",
        "#pooling\n",
        "model.add(MaxPooling2D(pool_size=(2,2),padding='valid',strides=(2,2)))\n",
        "\n",
        "#2nd conv layer\n",
        "model.add(Conv2D(256,kernel_size=(11,11),strides=(1,1),padding='valid'))\n",
        "model.add(Activation('relu'))\n",
        "#pooling\n",
        "model.add(MaxPooling2D(pool_size=(2,2),padding='valid',strides=(2,2)))\n",
        "\n",
        "#3rd conv layer\n",
        "model.add(Conv2D(384,kernel_size=(3,3),strides=(1,1),padding='valid'))\n",
        "model.add(Activation('relu'))\n",
        "\n",
        "#4th conv layer\n",
        "model.add(Conv2D(384,kernel_size=(3,3),strides=(1,1),padding='valid'))\n",
        "model.add(Activation('relu'))\n",
        "\n",
        "#5th conv layer\n",
        "model.add(Conv2D(256,kernel_size=(3,3),strides=(1,1),padding='valid'))\n",
        "model.add(Activation('relu'))\n",
        "#pooling\n",
        "model.add(MaxPooling2D(pool_size=(2,2),padding='valid',strides=(2,2)))\n",
        "\n",
        "#passing it to full connected layer\n",
        "model.add(Flatten())\n",
        "#1st fully connected layer\n",
        "model.add(Dense(4096,input_shape=(224*224*3,)))\n",
        "model.add(Activation('relu'))\n",
        "# add dropout to prevent overfitting\n",
        "model.add(Dropout(0.4))\n",
        "\n",
        "#2nd fully connected layer\n",
        "model.add(Dense(4096))\n",
        "model.add(Activation('relu'))\n",
        "# add dropout to prevent overfitting\n",
        "model.add(Dropout(0.4))\n",
        "\n",
        "#3rd fully connected layer\n",
        "model.add(Dense(1000))\n",
        "model.add(Activation('relu'))\n",
        "# add dropout to prevent overfitting\n",
        "model.add(Dropout(0.4))\n",
        "\n",
        "#output layer\n",
        "model.add(Dense(17))\n",
        "model.add(Activation('softmax'))\n",
        "\n",
        "model.summary()\n",
        "#compile model\n",
        "model.compile(loss=keras.losses.categorical_crossentropy,optimizer=\"adam\",metrics=['accuracy'])"
      ],
      "metadata": {
        "colab": {
          "base_uri": "https://localhost:8080/"
        },
        "id": "3caZ0HshdsI2",
        "outputId": "9228fe52-0e8a-4f04-f28f-29d0f037e3a4"
      },
      "execution_count": 4,
      "outputs": [
        {
          "output_type": "stream",
          "name": "stdout",
          "text": [
            "Model: \"sequential\"\n",
            "_________________________________________________________________\n",
            " Layer (type)                Output Shape              Param #   \n",
            "=================================================================\n",
            " conv2d (Conv2D)             (None, 54, 59, 96)        34944     \n",
            "                                                                 \n",
            " activation (Activation)     (None, 54, 59, 96)        0         \n",
            "                                                                 \n",
            " max_pooling2d (MaxPooling2D  (None, 27, 29, 96)       0         \n",
            " )                                                               \n",
            "                                                                 \n",
            " conv2d_1 (Conv2D)           (None, 17, 19, 256)       2973952   \n",
            "                                                                 \n",
            " activation_1 (Activation)   (None, 17, 19, 256)       0         \n",
            "                                                                 \n",
            " max_pooling2d_1 (MaxPooling  (None, 8, 9, 256)        0         \n",
            " 2D)                                                             \n",
            "                                                                 \n",
            " conv2d_2 (Conv2D)           (None, 6, 7, 384)         885120    \n",
            "                                                                 \n",
            " activation_2 (Activation)   (None, 6, 7, 384)         0         \n",
            "                                                                 \n",
            " conv2d_3 (Conv2D)           (None, 4, 5, 384)         1327488   \n",
            "                                                                 \n",
            " activation_3 (Activation)   (None, 4, 5, 384)         0         \n",
            "                                                                 \n",
            " conv2d_4 (Conv2D)           (None, 2, 3, 256)         884992    \n",
            "                                                                 \n",
            " activation_4 (Activation)   (None, 2, 3, 256)         0         \n",
            "                                                                 \n",
            " max_pooling2d_2 (MaxPooling  (None, 1, 1, 256)        0         \n",
            " 2D)                                                             \n",
            "                                                                 \n",
            " flatten (Flatten)           (None, 256)               0         \n",
            "                                                                 \n",
            " dense (Dense)               (None, 4096)              1052672   \n",
            "                                                                 \n",
            " activation_5 (Activation)   (None, 4096)              0         \n",
            "                                                                 \n",
            " dropout (Dropout)           (None, 4096)              0         \n",
            "                                                                 \n",
            " dense_1 (Dense)             (None, 4096)              16781312  \n",
            "                                                                 \n",
            " activation_6 (Activation)   (None, 4096)              0         \n",
            "                                                                 \n",
            " dropout_1 (Dropout)         (None, 4096)              0         \n",
            "                                                                 \n",
            " dense_2 (Dense)             (None, 1000)              4097000   \n",
            "                                                                 \n",
            " activation_7 (Activation)   (None, 1000)              0         \n",
            "                                                                 \n",
            " dropout_2 (Dropout)         (None, 1000)              0         \n",
            "                                                                 \n",
            " dense_3 (Dense)             (None, 17)                17017     \n",
            "                                                                 \n",
            " activation_8 (Activation)   (None, 17)                0         \n",
            "                                                                 \n",
            "=================================================================\n",
            "Total params: 28,054,497\n",
            "Trainable params: 28,054,497\n",
            "Non-trainable params: 0\n",
            "_________________________________________________________________\n"
          ]
        }
      ]
    },
    {
      "cell_type": "code",
      "source": [
        ""
      ],
      "metadata": {
        "id": "moTIq4aPr__7"
      },
      "execution_count": null,
      "outputs": []
    },
    {
      "cell_type": "code",
      "source": [
        ""
      ],
      "metadata": {
        "id": "tnhaMBSfrlXk"
      },
      "execution_count": null,
      "outputs": []
    }
  ]
}