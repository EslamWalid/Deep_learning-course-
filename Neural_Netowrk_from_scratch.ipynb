{
  "nbformat": 4,
  "nbformat_minor": 0,
  "metadata": {
    "colab": {
      "provenance": [],
      "authorship_tag": "ABX9TyOB+xSP8gpm5d+5aVk8SczK",
      "include_colab_link": true
    },
    "kernelspec": {
      "name": "python3",
      "display_name": "Python 3"
    },
    "language_info": {
      "name": "python"
    }
  },
  "cells": [
    {
      "cell_type": "markdown",
      "metadata": {
        "id": "view-in-github",
        "colab_type": "text"
      },
      "source": [
        "<a href=\"https://colab.research.google.com/github/EslamWalid/Deep_learning_ITI/blob/main/Neural_Netowrk_from_scratch.ipynb\" target=\"_parent\"><img src=\"https://colab.research.google.com/assets/colab-badge.svg\" alt=\"Open In Colab\"/></a>"
      ]
    },
    {
      "cell_type": "markdown",
      "source": [
        "# appling Code from \"Nueral Network from scratch in python\" Book"
      ],
      "metadata": {
        "id": "2g6MzEKW2gSX"
      }
    },
    {
      "cell_type": "code",
      "execution_count": 1,
      "metadata": {
        "colab": {
          "base_uri": "https://localhost:8080/"
        },
        "id": "GDBnO13Kwo9T",
        "outputId": "2bf9a36a-b474-462c-b100-150850562329"
      },
      "outputs": [
        {
          "output_type": "stream",
          "name": "stdout",
          "text": [
            "Reading package lists... Done\n",
            "Building dependency tree... Done\n",
            "Reading state information... Done\n",
            "E: Unable to locate package python3.7.7\n",
            "E: Couldn't find any package by glob 'python3.7.7'\n",
            "E: Couldn't find any package by regex 'python3.7.7'\n",
            "Collecting numpy==1.18.2\n",
            "  Using cached numpy-1.18.2.zip (5.4 MB)\n",
            "  Installing build dependencies ... \u001b[?25l\u001b[?25hdone\n",
            "  Getting requirements to build wheel ... \u001b[?25l\u001b[?25hdone\n",
            "  \u001b[1;31merror\u001b[0m: \u001b[1msubprocess-exited-with-error\u001b[0m\n",
            "  \n",
            "  \u001b[31m×\u001b[0m \u001b[32mPreparing metadata \u001b[0m\u001b[1;32m(\u001b[0m\u001b[32mpyproject.toml\u001b[0m\u001b[1;32m)\u001b[0m did not run successfully.\n",
            "  \u001b[31m│\u001b[0m exit code: \u001b[1;36m1\u001b[0m\n",
            "  \u001b[31m╰─>\u001b[0m See above for output.\n",
            "  \n",
            "  \u001b[1;35mnote\u001b[0m: This error originates from a subprocess, and is likely not a problem with pip.\n",
            "  Preparing metadata (pyproject.toml) ... \u001b[?25l\u001b[?25herror\n",
            "\u001b[1;31merror\u001b[0m: \u001b[1mmetadata-generation-failed\u001b[0m\n",
            "\n",
            "\u001b[31m×\u001b[0m Encountered error while generating package metadata.\n",
            "\u001b[31m╰─>\u001b[0m See above for output.\n",
            "\n",
            "\u001b[1;35mnote\u001b[0m: This is an issue with the package mentioned above, not pip.\n",
            "\u001b[1;36mhint\u001b[0m: See above for details.\n",
            "Requirement already satisfied: matplotlib==3.2.1 in /usr/local/lib/python3.10/dist-packages (3.2.1)\n",
            "Requirement already satisfied: cycler>=0.10 in /usr/local/lib/python3.10/dist-packages (from matplotlib==3.2.1) (0.12.1)\n",
            "Requirement already satisfied: kiwisolver>=1.0.1 in /usr/local/lib/python3.10/dist-packages (from matplotlib==3.2.1) (1.4.5)\n",
            "Requirement already satisfied: numpy>=1.11 in /usr/local/lib/python3.10/dist-packages (from matplotlib==3.2.1) (1.25.2)\n",
            "Requirement already satisfied: pyparsing!=2.0.4,!=2.1.2,!=2.1.6,>=2.0.1 in /usr/local/lib/python3.10/dist-packages (from matplotlib==3.2.1) (3.1.2)\n",
            "Requirement already satisfied: python-dateutil>=2.1 in /usr/local/lib/python3.10/dist-packages (from matplotlib==3.2.1) (2.8.2)\n",
            "Requirement already satisfied: six>=1.5 in /usr/local/lib/python3.10/dist-packages (from python-dateutil>=2.1->matplotlib==3.2.1) (1.16.0)\n"
          ]
        }
      ],
      "source": [
        "!sudo apt-get install python3.7.7\n",
        "! pip install numpy==1.18.2\n",
        "! pip install matplotlib==3.2.1"
      ]
    },
    {
      "cell_type": "markdown",
      "source": [
        "### first neural network"
      ],
      "metadata": {
        "id": "FVVZ_-N02VCZ"
      }
    },
    {
      "cell_type": "code",
      "source": [
        "import numpy as np\n",
        "import matplotlib"
      ],
      "metadata": {
        "id": "rwIcLxcczyBI"
      },
      "execution_count": 2,
      "outputs": []
    },
    {
      "cell_type": "code",
      "source": [
        "inputs=[1.2,5.1,2.1]\n",
        "weights=[3.1,2.1,8.7]\n",
        "bias=3\n",
        "\n",
        "outputs=inputs[0]*weights[0]+inputs[1]*weights[1]+inputs[2]*weights[2]+bias\n",
        "print(outputs)\n"
      ],
      "metadata": {
        "colab": {
          "base_uri": "https://localhost:8080/"
        },
        "id": "cfiRmdki1VhP",
        "outputId": "8ef992b2-242b-4d91-ba3d-e2bb849ce8e9"
      },
      "execution_count": 3,
      "outputs": [
        {
          "output_type": "stream",
          "name": "stdout",
          "text": [
            "35.7\n"
          ]
        }
      ]
    },
    {
      "cell_type": "markdown",
      "source": [
        "### appling weights as Book"
      ],
      "metadata": {
        "id": "MCegyfkl2eSH"
      }
    },
    {
      "cell_type": "code",
      "source": [
        "inputs=[1,2,3]\n",
        "weights=[0.2,0.8,-0.5]\n",
        "bias=2\n",
        "\n",
        "outputs=inputs[0]*weights[0]+inputs[1]*weights[1]+inputs[2]*weights[2]+bias\n",
        "print(outputs)\n"
      ],
      "metadata": {
        "colab": {
          "base_uri": "https://localhost:8080/"
        },
        "id": "-3X_yWcN1Von",
        "outputId": "3dedea00-3dee-4850-e197-4d2d1964eb8d"
      },
      "execution_count": 4,
      "outputs": [
        {
          "output_type": "stream",
          "name": "stdout",
          "text": [
            "2.3\n"
          ]
        }
      ]
    },
    {
      "cell_type": "code",
      "source": [
        "# adding one more input\n",
        "inputs=[1,2,3,2.5]\n",
        "weights=[0.2,0.8,-0.5,1.0]\n",
        "bias=2\n",
        "\n",
        "outputs=inputs[0]*weights[0]+inputs[1]*weights[1]+inputs[2]*weights[2]+inputs[3]*weights[3]+bias\n",
        "print(outputs)\n"
      ],
      "metadata": {
        "colab": {
          "base_uri": "https://localhost:8080/"
        },
        "id": "q-8ToHwk1Vqm",
        "outputId": "5e916fd9-b243-4889-fd04-6f02f49a4c2f"
      },
      "execution_count": 5,
      "outputs": [
        {
          "output_type": "stream",
          "name": "stdout",
          "text": [
            "4.8\n"
          ]
        }
      ]
    },
    {
      "cell_type": "code",
      "source": [
        "# using 3 neurons\n",
        "\n",
        "inputs1=[1,2,3,2.5]\n",
        "weights1=[0.2,0.8,-0.5,1.0]\n",
        "weights2=[0.5,-0.91,0.26,-0.5]\n",
        "weights3=[-0.26,-0.27,0.17,0.87]\n",
        "bias1=2\n",
        "bias2=3\n",
        "bias3=0.5\n",
        "\n",
        "outputs=[inputs1[0]*weights1[0]+inputs1[1]*weights1[1]+inputs1[2]*weights1[2]+inputs1[3]*weights1[3]+bias1,\n",
        "         inputs1[0]*weights2[0]+inputs1[1]*weights2[1]+inputs1[2]*weights2[2]+inputs1[3]*weights2[3]+bias2,\n",
        "         inputs1[0]*weights3[0]+inputs1[1]*weights3[1]+inputs1[2]*weights3[2]+inputs1[3]*weights[3]+bias3]\n",
        "print(outputs)\n",
        "\n",
        "\n"
      ],
      "metadata": {
        "colab": {
          "base_uri": "https://localhost:8080/"
        },
        "id": "vQO_2X251VvX",
        "outputId": "bfddebd1-fdd8-4c8b-b40a-c6e7713d6d41"
      },
      "execution_count": 7,
      "outputs": [
        {
          "output_type": "stream",
          "name": "stdout",
          "text": [
            "[4.8, 1.21, 2.71]\n"
          ]
        }
      ]
    },
    {
      "cell_type": "markdown",
      "source": [
        "### Dot product"
      ],
      "metadata": {
        "id": "sAM3RRMf61iH"
      }
    },
    {
      "cell_type": "code",
      "source": [
        "\n",
        "inputs1=[1,2,3,2.5]\n",
        "weight=[[0.2,0.8,-0.5,1.0],[0.5,-0.91,0.26,-0.5],[-0.26,-0.27,0.17,0.87]]\n",
        "bias=[2,3,0.5]\n",
        "\n",
        "layer_outputs =[]\n",
        "\n",
        "for neuron_weights ,neuron_bias in zip(weight,bias):\n",
        "  neuron_output=0\n",
        "\n",
        "  for n_input,weight in zip(inputs,neuron_weights):\n",
        "    neuron_output+= n_input*weight\n",
        "\n",
        "  neuron_output+=neuron_bias\n",
        "  layer_outputs.append(neuron_output)\n",
        "\n",
        "print(layer_outputs)\n"
      ],
      "metadata": {
        "colab": {
          "base_uri": "https://localhost:8080/"
        },
        "id": "YWVVxPEZ5lSC",
        "outputId": "b6271fd9-3454-4975-dd8d-4c16a2c8051f"
      },
      "execution_count": 13,
      "outputs": [
        {
          "output_type": "stream",
          "name": "stdout",
          "text": [
            "[4.8, 1.21, 2.385]\n"
          ]
        }
      ]
    },
    {
      "cell_type": "code",
      "source": [
        "inputs=[1,2,3,2.5]\n",
        "weight=[0.2,0.8,-0.5,1.0]\n",
        "bias=2\n",
        "\n",
        "output=np.dot(inputs,weight)+bias\n",
        "print(output)\n"
      ],
      "metadata": {
        "colab": {
          "base_uri": "https://localhost:8080/"
        },
        "id": "QQnGHGWz8iKo",
        "outputId": "36495e25-51a5-4e52-932e-e7b1e34b0742"
      },
      "execution_count": 14,
      "outputs": [
        {
          "output_type": "stream",
          "name": "stdout",
          "text": [
            "4.8\n"
          ]
        }
      ]
    },
    {
      "cell_type": "code",
      "source": [
        "\n",
        "inputs=[1,2,3,2.5]\n",
        "weight=[[0.2,0.8,-0.5,1.0],[0.5,-0.91,0.26,-0.5],[-0.26,-0.27,0.17,0.87]]\n",
        "bias=[2,3,0.5]\n",
        "\n",
        "output1=np.dot(weight,inputs)+bias\n",
        "\n",
        "print(output1)\n"
      ],
      "metadata": {
        "colab": {
          "base_uri": "https://localhost:8080/"
        },
        "id": "HQOJh4ao_UYY",
        "outputId": "97caf2a3-6c66-4c10-e29c-bd121b2dcf82"
      },
      "execution_count": 18,
      "outputs": [
        {
          "output_type": "stream",
          "name": "stdout",
          "text": [
            "[4.8   1.21  2.385]\n"
          ]
        }
      ]
    },
    {
      "cell_type": "markdown",
      "source": [
        "### Batches, Layers, and Objects"
      ],
      "metadata": {
        "id": "P60tkM09AwXG"
      }
    },
    {
      "cell_type": "code",
      "source": [
        "\n",
        "inputs=[[1,2,3,2.5],\n",
        "        [2.0,5.0,-1.0,2.0],\n",
        "        [-1.5,2.7,3.3,-0.8]]\n",
        "weight=[[0.2,0.8,-0.5,1.0],\n",
        "        [0.5,-0.91,0.26,-0.5],\n",
        "        [-0.26,-0.27,0.17,0.87]]\n",
        "bias=[2,3,0.5]\n",
        "\n",
        "output1=np.dot(inputs,np.array(weight).T)+bias\n",
        "\n",
        "print(output1)\n"
      ],
      "metadata": {
        "colab": {
          "base_uri": "https://localhost:8080/"
        },
        "id": "8OKXtNhC_v_y",
        "outputId": "95b6d33e-48c1-4b0b-c70e-2067c51838d0"
      },
      "execution_count": 20,
      "outputs": [
        {
          "output_type": "stream",
          "name": "stdout",
          "text": [
            "[[ 4.8    1.21   2.385]\n",
            " [ 8.9   -1.81   0.2  ]\n",
            " [ 1.41   1.051  0.026]]\n"
          ]
        }
      ]
    },
    {
      "cell_type": "code",
      "source": [
        "inputs=[[1,2,3,2.5],\n",
        "        [2.0,5.0,-1.0,2.0],\n",
        "        [-1.5,2.7,3.3,-0.8]]\n",
        "weight=[[0.2,0.8,-0.5,1.0],\n",
        "        [0.5,-0.91,0.26,-0.5],\n",
        "        [-0.26,-0.27,0.17,0.87]]\n",
        "bias=[2,3,0.5]\n",
        "# second layer\n",
        "weight2=[[0.1,-0.14,0.5],\n",
        "        [-0.5,0.12,-0.33],\n",
        "        [-0.44,0.73,-0.13]]\n",
        "bias2=[-1,2,-0.5]\n",
        "\n",
        "layer1=np.dot(inputs,np.array(weight).T)+bias\n",
        "layer2_output=np.dot(layer1,np.array(weight2).T)+bias2\n",
        "\n",
        "print(layer2_output)\n"
      ],
      "metadata": {
        "colab": {
          "base_uri": "https://localhost:8080/"
        },
        "id": "Cy_RCnPECoUs",
        "outputId": "c5cbcb1d-9f43-43ce-e86e-0e32469ef031"
      },
      "execution_count": 22,
      "outputs": [
        {
          "output_type": "stream",
          "name": "stdout",
          "text": [
            "[[ 0.5031  -1.04185 -2.03875]\n",
            " [ 0.2434  -2.7332  -5.7633 ]\n",
            " [-0.99314  1.41254 -0.35655]]\n"
          ]
        }
      ]
    },
    {
      "cell_type": "code",
      "source": [
        "np.random.seed(0)\n",
        "class Layer_Dense:\n",
        "  def __init__(self, n_inputs , n_neurons):\n",
        "    self.weights= 0.10 * np.random.randn(n_inputs,n_neurons)\n",
        "    self.biases= np.zeros((1,n_neurons))\n",
        "\n",
        "  def forward(self, inputs):\n",
        "    self.outputs=np.dot(inputs,self.weights)+self.biases"
      ],
      "metadata": {
        "id": "nIPsnqZ2Evc6"
      },
      "execution_count": 29,
      "outputs": []
    },
    {
      "cell_type": "code",
      "source": [
        "X=[[1,2,3,2.5],\n",
        "        [2.0,5.0,-1.0,2.0],\n",
        "        [-1.5,2.7,3.3,-0.8]]\n",
        "\n",
        "Layer1=Layer_Dense(4, 5)\n",
        "\n",
        "Layer2=Layer_Dense(5,2)\n",
        "\n",
        "Layer1.forward(X)\n",
        "Layer2.forward(Layer1.outputs)\n",
        "print(Layer2.outputs)\n"
      ],
      "metadata": {
        "colab": {
          "base_uri": "https://localhost:8080/"
        },
        "id": "ibqRln14Gaan",
        "outputId": "9b24327b-8f36-4c07-ff0a-c3d9f79a74f1"
      },
      "execution_count": 31,
      "outputs": [
        {
          "output_type": "stream",
          "name": "stdout",
          "text": [
            "[[ 0.07600385  0.04015067]\n",
            " [-0.03707247 -0.0575363 ]\n",
            " [ 0.04924432  0.02825296]]\n"
          ]
        }
      ]
    },
    {
      "cell_type": "code",
      "source": [],
      "metadata": {
        "id": "ss_wTll6EV2l"
      },
      "execution_count": null,
      "outputs": []
    }
  ]
}