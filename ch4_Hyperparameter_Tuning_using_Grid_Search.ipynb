{
  "nbformat": 4,
  "nbformat_minor": 0,
  "metadata": {
    "colab": {
      "name": "ch4(mahraTech).ipynb",
      "provenance": [],
      "collapsed_sections": [],
      "authorship_tag": "ABX9TyPBBh2TLtDdVsbLQlo5AEmw",
      "include_colab_link": true
    },
    "kernelspec": {
      "name": "python3",
      "display_name": "Python 3"
    },
    "language_info": {
      "name": "python"
    },
    "accelerator": "GPU"
  },
  "cells": [
    {
      "cell_type": "markdown",
      "metadata": {
        "id": "view-in-github",
        "colab_type": "text"
      },
      "source": [
        "<a href=\"https://colab.research.google.com/github/EslamWalid/Deep_learning-course-/blob/main/ch4(mahraTech).ipynb\" target=\"_parent\"><img src=\"https://colab.research.google.com/assets/colab-badge.svg\" alt=\"Open In Colab\"/></a>"
      ]
    },
    {
      "cell_type": "code",
      "execution_count": null,
      "metadata": {
        "id": "lAoOvJIktOHF"
      },
      "outputs": [],
      "source": [
        "import numpy as np\n",
        "from keras.models import Sequential\n",
        "from keras.layers import Dense,Dropout,Flatten\n",
        "from sklearn.model_selection import GridSearchCV\n",
        "from keras.wrappers.scikit_learn import KerasClassifier\n"
      ]
    },
    {
      "cell_type": "code",
      "source": [
        "def Creat_model():\n",
        "  model=Sequential()\n",
        "  model.add(Dense(12, input_dim=8,activation=\"relu\"))\n",
        "  model.add(Dense(1,activation=\"sigmoid\"))\n",
        "  model.compile(loss=\"binary_crossentropy\",optimizer= 'Adam',metrics=['accuracy'])\n",
        "  return model"
      ],
      "metadata": {
        "id": "ZhlW4cnFu6rD"
      },
      "execution_count": null,
      "outputs": []
    },
    {
      "cell_type": "code",
      "source": [
        "np.random.seed(7)\n",
        "dataSet=np.loadtxt('/pima-indians-diabetes.data.csv',delimiter=',')\n",
        "x=dataSet[:,0:8]\n",
        "y=dataSet[:,8]\n"
      ],
      "metadata": {
        "id": "jD54lOKWv_Rd"
      },
      "execution_count": null,
      "outputs": []
    },
    {
      "cell_type": "code",
      "source": [
        "model =KerasClassifier(build_fn=Creat_model,verbose=0)\n",
        "batch_size=[10,20,30,40,50,60,70,80,90,100]\n",
        "epochs=[10,50,100]\n",
        "param_grid=dict(batch_size=batch_size,epochs=epochs)\n",
        "grid=GridSearchCV(estimator=model,param_grid=param_grid,n_jobs=-1,cv=3)\n",
        "grid_res=grid.fit(x,y)\n",
        "print(grid_res.best_score_,\"/n\",grid_res.best_params_)"
      ],
      "metadata": {
        "colab": {
          "base_uri": "https://localhost:8080/"
        },
        "id": "LenxGTvGxMbF",
        "outputId": "4df22d4c-91aa-4888-9853-9459fa3e5db0"
      },
      "execution_count": null,
      "outputs": [
        {
          "output_type": "stream",
          "name": "stderr",
          "text": [
            "/usr/local/lib/python3.7/dist-packages/ipykernel_launcher.py:1: DeprecationWarning: KerasClassifier is deprecated, use Sci-Keras (https://github.com/adriangb/scikeras) instead. See https://www.adriangb.com/scikeras/stable/migration.html for help migrating.\n",
            "  \"\"\"Entry point for launching an IPython kernel.\n"
          ]
        },
        {
          "output_type": "stream",
          "name": "stdout",
          "text": [
            "0.703125 /n {'batch_size': 10, 'epochs': 100}\n"
          ]
        }
      ]
    },
    {
      "cell_type": "code",
      "source": [
        "def Creat_modell(optimizer='Adam'):\n",
        "  model=Sequential()\n",
        "  model.add(Dense(12, input_dim=8,activation=\"relu\"))\n",
        "  model.add(Dense(1,activation=\"sigmoid\"))\n",
        "  model.compile(loss=\"binary_crossentropy\",optimizer= optimizer,metrics=['accuracy'])\n",
        "  return model"
      ],
      "metadata": {
        "id": "wZ5JDL28GLWE"
      },
      "execution_count": null,
      "outputs": []
    },
    {
      "cell_type": "code",
      "source": [
        "dataSetA=np.loadtxt('/pima-indians-diabetes.data.csv',delimiter=',')\n",
        "x=dataSetA[:,0:8]\n",
        "y=dataSetA[:,8]"
      ],
      "metadata": {
        "id": "fOiiI-a5P7CK"
      },
      "execution_count": null,
      "outputs": []
    },
    {
      "cell_type": "code",
      "source": [
        "model=KerasClassifier(build_fn=Creat_modell,epochs=100,batch_size=10,verbose=0)\n",
        "optimizer=['SGD' , 'RMSprop' , 'Adagrad' , 'Adadelta' , 'Adam' , 'Adamax' , 'Nadam' ]\n",
        "param_grid = dict(optimizer=optimizer)\n",
        "gridA=GridSearchCV(estimator=model,param_grid=param_grid,n_jobs=-1,cv=3)\n",
        "grid_resA=gridA.fit(x,y)\n",
        "print(grid_resA.best_score_,grid_resA.best_params_)"
      ],
      "metadata": {
        "colab": {
          "base_uri": "https://localhost:8080/"
        },
        "id": "iEFAifMMRRKg",
        "outputId": "5235e273-2071-41d1-c9a7-3c159e399c4d"
      },
      "execution_count": null,
      "outputs": [
        {
          "output_type": "stream",
          "name": "stderr",
          "text": [
            "/usr/local/lib/python3.7/dist-packages/ipykernel_launcher.py:1: DeprecationWarning: KerasClassifier is deprecated, use Sci-Keras (https://github.com/adriangb/scikeras) instead. See https://www.adriangb.com/scikeras/stable/migration.html for help migrating.\n",
            "  \"\"\"Entry point for launching an IPython kernel.\n",
            "/usr/local/lib/python3.7/dist-packages/joblib/externals/loky/process_executor.py:705: UserWarning: A worker stopped while some jobs were given to the executor. This can be caused by a too short worker timeout or by a memory leak.\n",
            "  \"timeout or by a memory leak.\", UserWarning\n"
          ]
        },
        {
          "output_type": "stream",
          "name": "stdout",
          "text": [
            "0.7109375 {'optimizer': 'Adam'}\n"
          ]
        }
      ]
    },
    {
      "cell_type": "code",
      "source": [
        "def Creat_modell(activation='relu'):\n",
        "  model=Sequential()\n",
        "  model.add(Dense(12, input_dim=8,activation=activation))\n",
        "  model.add(Dense(1,activation=\"sigmoid\"))\n",
        "  model.compile(loss=\"binary_crossentropy\",optimizer= 'Adam',metrics=['accuracy'])\n",
        "  return model"
      ],
      "metadata": {
        "id": "9SFzCNmebnyC"
      },
      "execution_count": null,
      "outputs": []
    },
    {
      "cell_type": "code",
      "source": [
        "seed=7\n",
        "np.random.seed(seed)\n",
        "dataSet=np.loadtxt('/pima-indians-diabetes.data.csv',delimiter=',')\n",
        "x=dataSet[:,0:8]\n",
        "y=dataSet[:,8]\n",
        "\n",
        "model=KerasClassifier(build_fn=Creat_modell,epochs=100,batch_size=10,verbose=0)\n",
        "activation=['softmax','softplus','softsign','relu','tanh','simoid','hard_sigmoid','linear']\n",
        "param_grid=dict(activation=activation)\n",
        "grid=GridSearchCV(estimator=model,param_grid=param_grid,n_jobs=-1,cv=3)\n",
        "grid_res=grid.fit(x,y)\n",
        "print(grid_resA.best_score_,grid_resA.best_params_)"
      ],
      "metadata": {
        "colab": {
          "base_uri": "https://localhost:8080/"
        },
        "id": "LTKmt9MGexEX",
        "outputId": "8f1a81fb-e041-4be0-8d9f-380a7f97b168"
      },
      "execution_count": null,
      "outputs": [
        {
          "metadata": {
            "tags": null
          },
          "name": "stderr",
          "output_type": "stream",
          "text": [
            "/usr/local/lib/python3.7/dist-packages/ipykernel_launcher.py:7: DeprecationWarning: KerasClassifier is deprecated, use Sci-Keras (https://github.com/adriangb/scikeras) instead. See https://www.adriangb.com/scikeras/stable/migration.html for help migrating.\n",
            "  import sys\n",
            "/usr/local/lib/python3.7/dist-packages/sklearn/model_selection/_validation.py:372: FitFailedWarning: \n",
            "3 fits failed out of a total of 24.\n",
            "The score on these train-test partitions for these parameters will be set to nan.\n",
            "If these failures are not expected, you can try to debug them by setting error_score='raise'.\n",
            "\n",
            "Below are more details about the failures:\n",
            "--------------------------------------------------------------------------------\n",
            "3 fits failed with the following error:\n",
            "Traceback (most recent call last):\n",
            "  File \"/usr/local/lib/python3.7/dist-packages/sklearn/model_selection/_validation.py\", line 680, in _fit_and_score\n",
            "    estimator.fit(X_train, y_train, **fit_params)\n",
            "  File \"/usr/local/lib/python3.7/dist-packages/keras/wrappers/scikit_learn.py\", line 236, in fit\n",
            "    return super(KerasClassifier, self).fit(x, y, **kwargs)\n",
            "  File \"/usr/local/lib/python3.7/dist-packages/keras/wrappers/scikit_learn.py\", line 155, in fit\n",
            "    self.model = self.build_fn(**self.filter_sk_params(self.build_fn))\n",
            "  File \"<ipython-input-31-5d5972458210>\", line 3, in Creat_modell\n",
            "  File \"/usr/local/lib/python3.7/dist-packages/keras/layers/core/dense.py\", line 118, in __init__\n",
            "    self.activation = activations.get(activation)\n",
            "  File \"/usr/local/lib/python3.7/dist-packages/tensorflow/python/util/traceback_utils.py\", line 153, in error_handler\n",
            "    raise e.with_traceback(filtered_tb) from None\n",
            "  File \"/usr/local/lib/python3.7/dist-packages/keras/activations.py\", line 595, in get\n",
            "    return deserialize(identifier)\n",
            "  File \"/usr/local/lib/python3.7/dist-packages/keras/activations.py\", line 559, in deserialize\n",
            "    printable_module_name='activation function')\n",
            "  File \"/usr/local/lib/python3.7/dist-packages/keras/utils/generic_utils.py\", line 710, in deserialize_keras_object\n",
            "    f'Unknown {printable_module_name}: {object_name}. Please ensure '\n",
            "ValueError: Unknown activation function: simoid. Please ensure this object is passed to the `custom_objects` argument. See https://www.tensorflow.org/guide/keras/save_and_serialize#registering_the_custom_object for details.\n",
            "\n",
            "  warnings.warn(some_fits_failed_message, FitFailedWarning)\n",
            "/usr/local/lib/python3.7/dist-packages/sklearn/model_selection/_search.py:972: UserWarning: One or more of the test scores are non-finite: [0.62890625 0.68229167 0.67838542 0.64973958 0.67057292        nan\n",
            " 0.6484375  0.69921875]\n",
            "  category=UserWarning,\n"
          ]
        },
        {
          "metadata": {
            "tags": null
          },
          "name": "stdout",
          "output_type": "stream",
          "text": [
            "0.7109375 {'optimizer': 'Adam'}\n"
          ]
        }
      ]
    },
    {
      "cell_type": "code",
      "source": [
        "print(grid_res.best_score_,grid_res.best_params_)"
      ],
      "metadata": {
        "colab": {
          "base_uri": "https://localhost:8080/"
        },
        "id": "R_6IIn98gjwP",
        "outputId": "75f14b0b-3dd2-48c5-9dde-afa686fcb320"
      },
      "execution_count": null,
      "outputs": [
        {
          "output_type": "stream",
          "name": "stdout",
          "text": [
            "0.69921875 {'activation': 'linear'}\n"
          ]
        }
      ]
    },
    {
      "cell_type": "code",
      "source": [
        "import tensorflow as tf"
      ],
      "metadata": {
        "id": "J_Sq-vYdqaHd"
      },
      "execution_count": null,
      "outputs": []
    },
    {
      "cell_type": "code",
      "source": [
        "def creat_model(dropout_rate=0.0,weight_constraint=0):\n",
        "  model=Sequential()\n",
        "  model.add(Dense(12,input_dim=8,activation='linear',kernel_initializer='uniform',kernel_constraint=tf.keras.constraints.MaxNorm(weight_constraint)))\n",
        "  model.add(Dropout(dropout_rate))\n",
        "  model.add(Dense(1,activation='sigmoid',kernel_initializer='uniform'))\n",
        "  model.compile(loss='binary_crossentropy',optimizer='Adam',metrics=['accuracy'])\n",
        "  return model"
      ],
      "metadata": {
        "id": "AIhhk2IWihIC"
      },
      "execution_count": null,
      "outputs": []
    },
    {
      "cell_type": "code",
      "source": [
        "seed=7\n",
        "np.random.seed(seed)\n",
        "dataset=np.loadtxt('/pima-indians-diabetes.data.csv',delimiter=',')\n",
        "x=dataset[:,0:8]\n",
        "y=dataset[:,8]"
      ],
      "metadata": {
        "id": "P3QCplINmwg0"
      },
      "execution_count": null,
      "outputs": []
    },
    {
      "cell_type": "code",
      "source": [
        "model=KerasClassifier(build_fn=creat_model,epochs=100,batch_size=10,verbose=0)\n",
        "weight_constraint=[1,2,3,4,5]\n",
        "dropout_rate=[0.0,0.1,0.2,0.3,0.4,0.5,0.6,0.7,0.8,0.9]\n",
        "param_grid=dict(weight_constraint=weight_constraint,dropout_rate=dropout_rate)\n",
        "grid=GridSearchCV(estimator=model,param_grid=param_grid,n_jobs=-1,cv=3)\n",
        "grid_resl=grid.fit(x,y)\n",
        "print(grid_resl.best_score_,grid_resl.best_params_)"
      ],
      "metadata": {
        "colab": {
          "base_uri": "https://localhost:8080/"
        },
        "id": "JXy9owDcnTWR",
        "outputId": "5bad1fa4-a9c4-4ffc-be3b-13e133c9fab7"
      },
      "execution_count": null,
      "outputs": [
        {
          "output_type": "stream",
          "name": "stderr",
          "text": [
            "/usr/local/lib/python3.7/dist-packages/ipykernel_launcher.py:1: DeprecationWarning: KerasClassifier is deprecated, use Sci-Keras (https://github.com/adriangb/scikeras) instead. See https://www.adriangb.com/scikeras/stable/migration.html for help migrating.\n",
            "  \"\"\"Entry point for launching an IPython kernel.\n",
            "/usr/local/lib/python3.7/dist-packages/joblib/externals/loky/process_executor.py:705: UserWarning: A worker stopped while some jobs were given to the executor. This can be caused by a too short worker timeout or by a memory leak.\n",
            "  \"timeout or by a memory leak.\", UserWarning\n"
          ]
        },
        {
          "output_type": "stream",
          "name": "stdout",
          "text": [
            "0.7265625 {'dropout_rate': 0.1, 'weight_constraint': 5}\n"
          ]
        }
      ]
    },
    {
      "cell_type": "code",
      "source": [
        ""
      ],
      "metadata": {
        "id": "rXPR3mheo8Xr"
      },
      "execution_count": null,
      "outputs": []
    }
  ]
}
