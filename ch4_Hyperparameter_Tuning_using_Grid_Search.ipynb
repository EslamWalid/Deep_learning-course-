{
  "nbformat": 4,
  "nbformat_minor": 0,
  "metadata": {
    "colab": {
      "name": "ch4(mahraTech).ipynb",
      "provenance": [],
      "collapsed_sections": [],
      "authorship_tag": "ABX9TyMvr2ygritPW/IyuhbigWZ4",
      "include_colab_link": true
    },
    "kernelspec": {
      "name": "python3",
      "display_name": "Python 3"
    },
    "language_info": {
      "name": "python"
    },
    "accelerator": "GPU",
    "gpuClass": "standard"
  },
  "cells": [
    {
      "cell_type": "markdown",
      "metadata": {
        "id": "view-in-github",
        "colab_type": "text"
      },
      "source": [
        "<a href=\"https://colab.research.google.com/github/EslamWalid/Deep_learning_ITI/blob/main/ch4_Hyperparameter_Tuning_using_Grid_Search.ipynb\" target=\"_parent\"><img src=\"https://colab.research.google.com/assets/colab-badge.svg\" alt=\"Open In Colab\"/></a>"
      ]
    },
    {
      "cell_type": "code",
      "execution_count": 19,
      "metadata": {
        "id": "lAoOvJIktOHF"
      },
      "outputs": [],
      "source": [
        "import numpy as np\n",
        "from keras.models import Sequential\n",
        "from keras.layers import Dense,Dropout,Flatten\n",
        "from sklearn.model_selection import GridSearchCV\n",
        "from keras.wrappers.scikit_learn import KerasClassifier\n"
      ]
    },
    {
      "cell_type": "code",
      "source": [
        "def Creat_model():\n",
        "  model=Sequential()\n",
        "  model.add(Dense(12, input_dim=8,activation=\"relu\"))\n",
        "  model.add(Dense(1,activation=\"sigmoid\"))\n",
        "  model.compile(loss=\"binary_crossentropy\",optimizer= 'Adam',metrics=['accuracy'])\n",
        "  return model"
      ],
      "metadata": {
        "id": "ZhlW4cnFu6rD"
      },
      "execution_count": 20,
      "outputs": []
    },
    {
      "cell_type": "code",
      "source": [
        "#importing data and split x and y\n",
        "np.random.seed(7)\n",
        "dataSet=np.loadtxt('/content/pima-indians-diabetes.data.csv',delimiter=',')\n",
        "x=dataSet[:,0:8]\n",
        "y=dataSet[:,8]\n"
      ],
      "metadata": {
        "id": "jD54lOKWv_Rd"
      },
      "execution_count": 21,
      "outputs": []
    },
    {
      "cell_type": "markdown",
      "source": [
        "# grid search"
      ],
      "metadata": {
        "id": "t1yZsfdXjJJX"
      }
    },
    {
      "cell_type": "markdown",
      "source": [
        "### Tuning Batch Size and Training Epochs"
      ],
      "metadata": {
        "id": "2vC64mI1lzjv"
      }
    },
    {
      "cell_type": "code",
      "source": [
        "model =KerasClassifier(build_fn=Creat_model,verbose=0)\n",
        "batch_size=[10,20,30,40,50,60,70,80,90,100]\n",
        "epochs=[10,50,100]\n",
        "param_grid=dict(batch_size=batch_size,epochs=epochs)\n",
        "grid=GridSearchCV(estimator=model,param_grid=param_grid,n_jobs=-1,cv=3)\n",
        "grid_res=grid.fit(x,y)\n",
        "print(grid_res.best_score_,\"/n\",grid_res.best_params_)"
      ],
      "metadata": {
        "colab": {
          "base_uri": "https://localhost:8080/"
        },
        "id": "LenxGTvGxMbF",
        "outputId": "bc5df851-34e7-4d38-d9fa-bdca06335fbe"
      },
      "execution_count": 22,
      "outputs": [
        {
          "output_type": "stream",
          "name": "stderr",
          "text": [
            "/usr/local/lib/python3.7/dist-packages/ipykernel_launcher.py:1: DeprecationWarning: KerasClassifier is deprecated, use Sci-Keras (https://github.com/adriangb/scikeras) instead. See https://www.adriangb.com/scikeras/stable/migration.html for help migrating.\n",
            "  \"\"\"Entry point for launching an IPython kernel.\n"
          ]
        },
        {
          "output_type": "stream",
          "name": "stdout",
          "text": [
            "0.6953125 /n {'batch_size': 20, 'epochs': 100}\n"
          ]
        }
      ]
    },
    {
      "cell_type": "markdown",
      "source": [
        "### optimizers"
      ],
      "metadata": {
        "id": "RxGTg5Muj3Zn"
      }
    },
    {
      "cell_type": "code",
      "source": [
        "def Creat_modell(optimizer='Adam'):\n",
        "  model=Sequential()\n",
        "  model.add(Dense(12, input_dim=8,activation=\"relu\"))\n",
        "  model.add(Dense(1,activation=\"sigmoid\"))\n",
        "  model.compile(loss=\"binary_crossentropy\",optimizer= optimizer,metrics=['accuracy'])\n",
        "  return model"
      ],
      "metadata": {
        "id": "wZ5JDL28GLWE"
      },
      "execution_count": 23,
      "outputs": []
    },
    {
      "cell_type": "code",
      "source": [
        "dataSetA=np.loadtxt('/content/pima-indians-diabetes.data.csv',delimiter=',')\n",
        "x=dataSetA[:,0:8]\n",
        "y=dataSetA[:,8]"
      ],
      "metadata": {
        "id": "fOiiI-a5P7CK"
      },
      "execution_count": 24,
      "outputs": []
    },
    {
      "cell_type": "code",
      "source": [
        "model=KerasClassifier(build_fn=Creat_modell,epochs=100,batch_size=10,verbose=0)\n",
        "optimizer=['SGD' , 'RMSprop' , 'Adagrad' , 'Adadelta' , 'Adam' , 'Adamax' , 'Nadam' ]\n",
        "param_grid = dict(optimizer=optimizer)\n",
        "gridA=GridSearchCV(estimator=model,param_grid=param_grid,n_jobs=-1,cv=3)\n",
        "grid_resA=gridA.fit(x,y)\n",
        "print(grid_resA.best_score_,grid_resA.best_params_)"
      ],
      "metadata": {
        "colab": {
          "base_uri": "https://localhost:8080/"
        },
        "id": "iEFAifMMRRKg",
        "outputId": "002f02a3-6d57-47bc-a272-75c1831f2977"
      },
      "execution_count": 25,
      "outputs": [
        {
          "output_type": "stream",
          "name": "stderr",
          "text": [
            "/usr/local/lib/python3.7/dist-packages/ipykernel_launcher.py:1: DeprecationWarning: KerasClassifier is deprecated, use Sci-Keras (https://github.com/adriangb/scikeras) instead. See https://www.adriangb.com/scikeras/stable/migration.html for help migrating.\n",
            "  \"\"\"Entry point for launching an IPython kernel.\n"
          ]
        },
        {
          "output_type": "stream",
          "name": "stdout",
          "text": [
            "0.7005208333333334 {'optimizer': 'Nadam'}\n"
          ]
        }
      ]
    },
    {
      "cell_type": "markdown",
      "source": [
        "### activation function"
      ],
      "metadata": {
        "id": "-RyOv5YYkCOX"
      }
    },
    {
      "cell_type": "code",
      "source": [
        "def Creat_modell(activation='relu'):\n",
        "  model=Sequential()\n",
        "  model.add(Dense(12, input_dim=8,activation=activation))\n",
        "  model.add(Dense(1,activation=\"sigmoid\"))\n",
        "  model.compile(loss=\"binary_crossentropy\",optimizer= 'Adam',metrics=['accuracy'])\n",
        "  return model"
      ],
      "metadata": {
        "id": "9SFzCNmebnyC"
      },
      "execution_count": 26,
      "outputs": []
    },
    {
      "cell_type": "code",
      "source": [
        "seed=7\n",
        "np.random.seed(seed)\n",
        "dataSet=np.loadtxt('/content/pima-indians-diabetes.data.csv',delimiter=',')\n",
        "x=dataSet[:,0:8]\n",
        "y=dataSet[:,8]\n",
        "\n",
        "model=KerasClassifier(build_fn=Creat_modell,epochs=100,batch_size=10,verbose=0)\n",
        "activation=['softmax','softplus','softsign','relu','tanh','simoid','hard_sigmoid','linear']\n",
        "param_grid=dict(activation=activation)\n",
        "grid=GridSearchCV(estimator=model,param_grid=param_grid,n_jobs=-1,cv=3)\n",
        "grid_res=grid.fit(x,y)\n",
        "print(grid_res.best_score_,grid_res.best_params_)"
      ],
      "metadata": {
        "colab": {
          "base_uri": "https://localhost:8080/"
        },
        "id": "LTKmt9MGexEX",
        "outputId": "383eeb44-cd58-472a-ff32-fa17f4dbb58e"
      },
      "execution_count": 27,
      "outputs": [
        {
          "output_type": "stream",
          "name": "stderr",
          "text": [
            "/usr/local/lib/python3.7/dist-packages/ipykernel_launcher.py:7: DeprecationWarning: KerasClassifier is deprecated, use Sci-Keras (https://github.com/adriangb/scikeras) instead. See https://www.adriangb.com/scikeras/stable/migration.html for help migrating.\n",
            "  import sys\n",
            "/usr/local/lib/python3.7/dist-packages/sklearn/model_selection/_validation.py:372: FitFailedWarning: \n",
            "3 fits failed out of a total of 24.\n",
            "The score on these train-test partitions for these parameters will be set to nan.\n",
            "If these failures are not expected, you can try to debug them by setting error_score='raise'.\n",
            "\n",
            "Below are more details about the failures:\n",
            "--------------------------------------------------------------------------------\n",
            "3 fits failed with the following error:\n",
            "Traceback (most recent call last):\n",
            "  File \"/usr/local/lib/python3.7/dist-packages/sklearn/model_selection/_validation.py\", line 680, in _fit_and_score\n",
            "    estimator.fit(X_train, y_train, **fit_params)\n",
            "  File \"/usr/local/lib/python3.7/dist-packages/keras/wrappers/scikit_learn.py\", line 236, in fit\n",
            "    return super(KerasClassifier, self).fit(x, y, **kwargs)\n",
            "  File \"/usr/local/lib/python3.7/dist-packages/keras/wrappers/scikit_learn.py\", line 155, in fit\n",
            "    self.model = self.build_fn(**self.filter_sk_params(self.build_fn))\n",
            "  File \"<ipython-input-26-5d5972458210>\", line 3, in Creat_modell\n",
            "  File \"/usr/local/lib/python3.7/dist-packages/keras/layers/core/dense.py\", line 118, in __init__\n",
            "    self.activation = activations.get(activation)\n",
            "  File \"/usr/local/lib/python3.7/dist-packages/tensorflow/python/util/traceback_utils.py\", line 153, in error_handler\n",
            "    raise e.with_traceback(filtered_tb) from None\n",
            "  File \"/usr/local/lib/python3.7/dist-packages/keras/activations.py\", line 595, in get\n",
            "    return deserialize(identifier)\n",
            "  File \"/usr/local/lib/python3.7/dist-packages/keras/activations.py\", line 559, in deserialize\n",
            "    printable_module_name='activation function')\n",
            "  File \"/usr/local/lib/python3.7/dist-packages/keras/utils/generic_utils.py\", line 710, in deserialize_keras_object\n",
            "    f'Unknown {printable_module_name}: {object_name}. Please ensure '\n",
            "ValueError: Unknown activation function: simoid. Please ensure this object is passed to the `custom_objects` argument. See https://www.tensorflow.org/guide/keras/save_and_serialize#registering_the_custom_object for details.\n",
            "\n",
            "  warnings.warn(some_fits_failed_message, FitFailedWarning)\n",
            "/usr/local/lib/python3.7/dist-packages/sklearn/model_selection/_search.py:972: UserWarning: One or more of the test scores are non-finite: [0.63802083 0.69921875 0.70052083 0.67578125 0.63151042        nan\n",
            " 0.65885417 0.71744792]\n",
            "  category=UserWarning,\n"
          ]
        },
        {
          "output_type": "stream",
          "name": "stdout",
          "text": [
            "0.7174479166666666 {'activation': 'linear'}\n"
          ]
        }
      ]
    },
    {
      "cell_type": "code",
      "source": [
        "print(grid_res.best_score_,grid_res.best_params_)"
      ],
      "metadata": {
        "colab": {
          "base_uri": "https://localhost:8080/"
        },
        "id": "R_6IIn98gjwP",
        "outputId": "0e02955e-1481-4737-e690-a6761ef92f95"
      },
      "execution_count": 28,
      "outputs": [
        {
          "output_type": "stream",
          "name": "stdout",
          "text": [
            "0.7174479166666666 {'activation': 'linear'}\n"
          ]
        }
      ]
    },
    {
      "cell_type": "markdown",
      "source": [
        "### Tuning dropout regularization\n"
      ],
      "metadata": {
        "id": "WlUd3pbCmWvX"
      }
    },
    {
      "cell_type": "code",
      "source": [
        "import tensorflow as tf"
      ],
      "metadata": {
        "id": "J_Sq-vYdqaHd"
      },
      "execution_count": 29,
      "outputs": []
    },
    {
      "cell_type": "code",
      "source": [
        "def creat_model(dropout_rate=0.0,weight_constraint=0):\n",
        "  model=Sequential()\n",
        "  model.add(Dense(12,input_dim=8,activation='linear',kernel_initializer='uniform',\n",
        "                  kernel_constraint=tf.keras.constraints.MaxNorm(weight_constraint)))\n",
        "  model.add(Dropout(dropout_rate))\n",
        "  model.add(Dense(1,activation='sigmoid',kernel_initializer='uniform'))\n",
        "  model.compile(loss='binary_crossentropy',optimizer='Adam',metrics=['accuracy'])\n",
        "  return model"
      ],
      "metadata": {
        "id": "AIhhk2IWihIC"
      },
      "execution_count": 30,
      "outputs": []
    },
    {
      "cell_type": "code",
      "source": [
        "seed=7\n",
        "np.random.seed(seed)\n",
        "dataset=np.loadtxt('/content/pima-indians-diabetes.data.csv',delimiter=',')\n",
        "x=dataset[:,0:8]\n",
        "y=dataset[:,8]"
      ],
      "metadata": {
        "id": "P3QCplINmwg0"
      },
      "execution_count": 31,
      "outputs": []
    },
    {
      "cell_type": "code",
      "source": [
        "model=KerasClassifier(build_fn=creat_model,epochs=100,batch_size=10,verbose=0)\n",
        "weight_constraint=[1,2,3,4,5]\n",
        "dropout_rate=[0.0,0.1,0.2,0.3,0.4,0.5,0.6,0.7,0.8,0.9]\n",
        "param_grid=dict(weight_constraint=weight_constraint,dropout_rate=dropout_rate)\n",
        "grid=GridSearchCV(estimator=model,param_grid=param_grid,n_jobs=-1,cv=3)\n",
        "grid_resl=grid.fit(x,y)\n",
        "print(grid_resl.best_score_,grid_resl.best_params_)"
      ],
      "metadata": {
        "colab": {
          "base_uri": "https://localhost:8080/"
        },
        "id": "JXy9owDcnTWR",
        "outputId": "29c161be-f60b-42e8-d9f9-5bd027f037df"
      },
      "execution_count": 32,
      "outputs": [
        {
          "output_type": "stream",
          "name": "stderr",
          "text": [
            "/usr/local/lib/python3.7/dist-packages/ipykernel_launcher.py:1: DeprecationWarning: KerasClassifier is deprecated, use Sci-Keras (https://github.com/adriangb/scikeras) instead. See https://www.adriangb.com/scikeras/stable/migration.html for help migrating.\n",
            "  \"\"\"Entry point for launching an IPython kernel.\n",
            "/usr/local/lib/python3.7/dist-packages/joblib/externals/loky/process_executor.py:705: UserWarning: A worker stopped while some jobs were given to the executor. This can be caused by a too short worker timeout or by a memory leak.\n",
            "  \"timeout or by a memory leak.\", UserWarning\n"
          ]
        },
        {
          "output_type": "stream",
          "name": "stdout",
          "text": [
            "0.7291666666666666 {'dropout_rate': 0.2, 'weight_constraint': 5}\n"
          ]
        }
      ]
    },
    {
      "cell_type": "markdown",
      "source": [
        "### no. of neurons"
      ],
      "metadata": {
        "id": "SBgRbGg-qSvO"
      }
    },
    {
      "cell_type": "code",
      "source": [
        "def creat_model(neuron=1):\n",
        "  model=Sequential()\n",
        "  model.add(Dense(neuron,input_dim=8,activation='softplus',kernel_initializer='uniform',\n",
        "                  kernel_constraint=tf.keras.constraints.MaxNorm(weight_constraint)))\n",
        "  model.add(Dropout(0.2))\n",
        "  model.add(Dense(1,activation='sigmoid',kernel_initializer='uniform'))\n",
        "  model.compile(loss='binary_crossentropy',optimizer='Adam',metrics=['accuracy'])\n",
        "  return model"
      ],
      "metadata": {
        "id": "rXPR3mheo8Xr"
      },
      "execution_count": 33,
      "outputs": []
    },
    {
      "cell_type": "code",
      "source": [
        "seed=7\n",
        "np.random.seed(seed)\n",
        "dataset=np.loadtxt('/content/pima-indians-diabetes.data.csv',delimiter=',')\n",
        "x=dataset[:,0:8]\n",
        "y=dataset[:,8]"
      ],
      "metadata": {
        "id": "lnyzwlrnqj6W"
      },
      "execution_count": 34,
      "outputs": []
    },
    {
      "cell_type": "code",
      "source": [
        "model=KerasClassifier(build_fn=creat_model,epochs=100,batch_size=10,verbose=0)\n",
        "neuron=[1,5,10,15,20,25,30]\n",
        "param_grid=dict(neuron=neuron)\n",
        "grid=GridSearchCV(estimator=model,param_grid=param_grid,n_jobs=-1,cv=3)\n",
        "grid_resl=grid.fit(x,y)\n",
        "print(grid_resl.best_score_,grid_resl.best_params_)"
      ],
      "metadata": {
        "id": "gRQgw7sPqx_F",
        "outputId": "1f7426b5-34bc-4b04-a6b2-b1c8f7aa33eb",
        "colab": {
          "base_uri": "https://localhost:8080/"
        }
      },
      "execution_count": 35,
      "outputs": [
        {
          "output_type": "stream",
          "name": "stderr",
          "text": [
            "/usr/local/lib/python3.7/dist-packages/ipykernel_launcher.py:1: DeprecationWarning: KerasClassifier is deprecated, use Sci-Keras (https://github.com/adriangb/scikeras) instead. See https://www.adriangb.com/scikeras/stable/migration.html for help migrating.\n",
            "  \"\"\"Entry point for launching an IPython kernel.\n",
            "/usr/local/lib/python3.7/dist-packages/sklearn/model_selection/_validation.py:372: FitFailedWarning: \n",
            "18 fits failed out of a total of 21.\n",
            "The score on these train-test partitions for these parameters will be set to nan.\n",
            "If these failures are not expected, you can try to debug them by setting error_score='raise'.\n",
            "\n",
            "Below are more details about the failures:\n",
            "--------------------------------------------------------------------------------\n",
            "3 fits failed with the following error:\n",
            "Traceback (most recent call last):\n",
            "  File \"/usr/local/lib/python3.7/dist-packages/sklearn/model_selection/_validation.py\", line 680, in _fit_and_score\n",
            "    estimator.fit(X_train, y_train, **fit_params)\n",
            "  File \"/usr/local/lib/python3.7/dist-packages/keras/wrappers/scikit_learn.py\", line 236, in fit\n",
            "    return super(KerasClassifier, self).fit(x, y, **kwargs)\n",
            "  File \"/usr/local/lib/python3.7/dist-packages/keras/wrappers/scikit_learn.py\", line 164, in fit\n",
            "    history = self.model.fit(x, y, **fit_args)\n",
            "  File \"/usr/local/lib/python3.7/dist-packages/keras/utils/traceback_utils.py\", line 67, in error_handler\n",
            "    raise e.with_traceback(filtered_tb) from None\n",
            "  File \"/usr/local/lib/python3.7/dist-packages/tensorflow/python/framework/func_graph.py\", line 1147, in autograph_handler\n",
            "    raise e.ag_error_metadata.to_exception(e)\n",
            "ValueError: in user code:\n",
            "\n",
            "    File \"/usr/local/lib/python3.7/dist-packages/keras/engine/training.py\", line 1021, in train_function  *\n",
            "        return step_function(self, iterator)\n",
            "    File \"/usr/local/lib/python3.7/dist-packages/keras/engine/training.py\", line 1010, in step_function  **\n",
            "        outputs = model.distribute_strategy.run(run_step, args=(data,))\n",
            "    File \"/usr/local/lib/python3.7/dist-packages/keras/engine/training.py\", line 1000, in run_step  **\n",
            "        outputs = model.train_step(data)\n",
            "    File \"/usr/local/lib/python3.7/dist-packages/keras/engine/training.py\", line 863, in train_step\n",
            "        self.optimizer.minimize(loss, self.trainable_variables, tape=tape)\n",
            "    File \"/usr/local/lib/python3.7/dist-packages/keras/optimizer_v2/optimizer_v2.py\", line 532, in minimize\n",
            "        return self.apply_gradients(grads_and_vars, name=name)\n",
            "    File \"/usr/local/lib/python3.7/dist-packages/keras/optimizer_v2/optimizer_v2.py\", line 675, in apply_gradients\n",
            "        name=name)\n",
            "    File \"/usr/local/lib/python3.7/dist-packages/keras/optimizer_v2/optimizer_v2.py\", line 717, in _distributed_apply\n",
            "        var, apply_grad_to_update_var, args=(grad,), group=False)\n",
            "    File \"/usr/local/lib/python3.7/dist-packages/keras/optimizer_v2/optimizer_v2.py\", line 702, in apply_grad_to_update_var  **\n",
            "        return var.assign(var.constraint(var))\n",
            "    File \"/usr/local/lib/python3.7/dist-packages/keras/constraints.py\", line 112, in __call__\n",
            "        desired = backend.clip(norms, 0, self.max_value)\n",
            "    File \"/usr/local/lib/python3.7/dist-packages/keras/backend.py\", line 2909, in clip\n",
            "        return tf.clip_by_value(x, min_value, max_value)\n",
            "\n",
            "    ValueError: Shapes (1, 1) and (1, 5) are incompatible\n",
            "\n",
            "\n",
            "--------------------------------------------------------------------------------\n",
            "3 fits failed with the following error:\n",
            "Traceback (most recent call last):\n",
            "  File \"/usr/local/lib/python3.7/dist-packages/sklearn/model_selection/_validation.py\", line 680, in _fit_and_score\n",
            "    estimator.fit(X_train, y_train, **fit_params)\n",
            "  File \"/usr/local/lib/python3.7/dist-packages/keras/wrappers/scikit_learn.py\", line 236, in fit\n",
            "    return super(KerasClassifier, self).fit(x, y, **kwargs)\n",
            "  File \"/usr/local/lib/python3.7/dist-packages/keras/wrappers/scikit_learn.py\", line 164, in fit\n",
            "    history = self.model.fit(x, y, **fit_args)\n",
            "  File \"/usr/local/lib/python3.7/dist-packages/keras/utils/traceback_utils.py\", line 67, in error_handler\n",
            "    raise e.with_traceback(filtered_tb) from None\n",
            "  File \"/usr/local/lib/python3.7/dist-packages/tensorflow/python/framework/func_graph.py\", line 1147, in autograph_handler\n",
            "    raise e.ag_error_metadata.to_exception(e)\n",
            "ValueError: in user code:\n",
            "\n",
            "    File \"/usr/local/lib/python3.7/dist-packages/keras/engine/training.py\", line 1021, in train_function  *\n",
            "        return step_function(self, iterator)\n",
            "    File \"/usr/local/lib/python3.7/dist-packages/keras/engine/training.py\", line 1010, in step_function  **\n",
            "        outputs = model.distribute_strategy.run(run_step, args=(data,))\n",
            "    File \"/usr/local/lib/python3.7/dist-packages/keras/engine/training.py\", line 1000, in run_step  **\n",
            "        outputs = model.train_step(data)\n",
            "    File \"/usr/local/lib/python3.7/dist-packages/keras/engine/training.py\", line 863, in train_step\n",
            "        self.optimizer.minimize(loss, self.trainable_variables, tape=tape)\n",
            "    File \"/usr/local/lib/python3.7/dist-packages/keras/optimizer_v2/optimizer_v2.py\", line 532, in minimize\n",
            "        return self.apply_gradients(grads_and_vars, name=name)\n",
            "    File \"/usr/local/lib/python3.7/dist-packages/keras/optimizer_v2/optimizer_v2.py\", line 675, in apply_gradients\n",
            "        name=name)\n",
            "    File \"/usr/local/lib/python3.7/dist-packages/keras/optimizer_v2/optimizer_v2.py\", line 717, in _distributed_apply\n",
            "        var, apply_grad_to_update_var, args=(grad,), group=False)\n",
            "    File \"/usr/local/lib/python3.7/dist-packages/keras/optimizer_v2/optimizer_v2.py\", line 702, in apply_grad_to_update_var  **\n",
            "        return var.assign(var.constraint(var))\n",
            "    File \"/usr/local/lib/python3.7/dist-packages/keras/constraints.py\", line 112, in __call__\n",
            "        desired = backend.clip(norms, 0, self.max_value)\n",
            "    File \"/usr/local/lib/python3.7/dist-packages/keras/backend.py\", line 2909, in clip\n",
            "        return tf.clip_by_value(x, min_value, max_value)\n",
            "\n",
            "    ValueError: Dimensions must be equal, but are 10 and 5 for '{{node Adam/Adam/update/clip_by_value/Minimum}} = Minimum[T=DT_FLOAT](Adam/Adam/update/Sqrt, Adam/Adam/update/clip_by_value/Minimum/y)' with input shapes: [1,10], [5].\n",
            "\n",
            "\n",
            "--------------------------------------------------------------------------------\n",
            "3 fits failed with the following error:\n",
            "Traceback (most recent call last):\n",
            "  File \"/usr/local/lib/python3.7/dist-packages/sklearn/model_selection/_validation.py\", line 680, in _fit_and_score\n",
            "    estimator.fit(X_train, y_train, **fit_params)\n",
            "  File \"/usr/local/lib/python3.7/dist-packages/keras/wrappers/scikit_learn.py\", line 236, in fit\n",
            "    return super(KerasClassifier, self).fit(x, y, **kwargs)\n",
            "  File \"/usr/local/lib/python3.7/dist-packages/keras/wrappers/scikit_learn.py\", line 164, in fit\n",
            "    history = self.model.fit(x, y, **fit_args)\n",
            "  File \"/usr/local/lib/python3.7/dist-packages/keras/utils/traceback_utils.py\", line 67, in error_handler\n",
            "    raise e.with_traceback(filtered_tb) from None\n",
            "  File \"/usr/local/lib/python3.7/dist-packages/tensorflow/python/framework/func_graph.py\", line 1147, in autograph_handler\n",
            "    raise e.ag_error_metadata.to_exception(e)\n",
            "ValueError: in user code:\n",
            "\n",
            "    File \"/usr/local/lib/python3.7/dist-packages/keras/engine/training.py\", line 1021, in train_function  *\n",
            "        return step_function(self, iterator)\n",
            "    File \"/usr/local/lib/python3.7/dist-packages/keras/engine/training.py\", line 1010, in step_function  **\n",
            "        outputs = model.distribute_strategy.run(run_step, args=(data,))\n",
            "    File \"/usr/local/lib/python3.7/dist-packages/keras/engine/training.py\", line 1000, in run_step  **\n",
            "        outputs = model.train_step(data)\n",
            "    File \"/usr/local/lib/python3.7/dist-packages/keras/engine/training.py\", line 863, in train_step\n",
            "        self.optimizer.minimize(loss, self.trainable_variables, tape=tape)\n",
            "    File \"/usr/local/lib/python3.7/dist-packages/keras/optimizer_v2/optimizer_v2.py\", line 532, in minimize\n",
            "        return self.apply_gradients(grads_and_vars, name=name)\n",
            "    File \"/usr/local/lib/python3.7/dist-packages/keras/optimizer_v2/optimizer_v2.py\", line 675, in apply_gradients\n",
            "        name=name)\n",
            "    File \"/usr/local/lib/python3.7/dist-packages/keras/optimizer_v2/optimizer_v2.py\", line 717, in _distributed_apply\n",
            "        var, apply_grad_to_update_var, args=(grad,), group=False)\n",
            "    File \"/usr/local/lib/python3.7/dist-packages/keras/optimizer_v2/optimizer_v2.py\", line 702, in apply_grad_to_update_var  **\n",
            "        return var.assign(var.constraint(var))\n",
            "    File \"/usr/local/lib/python3.7/dist-packages/keras/constraints.py\", line 112, in __call__\n",
            "        desired = backend.clip(norms, 0, self.max_value)\n",
            "    File \"/usr/local/lib/python3.7/dist-packages/keras/backend.py\", line 2909, in clip\n",
            "        return tf.clip_by_value(x, min_value, max_value)\n",
            "\n",
            "    ValueError: Dimensions must be equal, but are 15 and 5 for '{{node Adam/Adam/update/clip_by_value/Minimum}} = Minimum[T=DT_FLOAT](Adam/Adam/update/Sqrt, Adam/Adam/update/clip_by_value/Minimum/y)' with input shapes: [1,15], [5].\n",
            "\n",
            "\n",
            "--------------------------------------------------------------------------------\n",
            "3 fits failed with the following error:\n",
            "Traceback (most recent call last):\n",
            "  File \"/usr/local/lib/python3.7/dist-packages/sklearn/model_selection/_validation.py\", line 680, in _fit_and_score\n",
            "    estimator.fit(X_train, y_train, **fit_params)\n",
            "  File \"/usr/local/lib/python3.7/dist-packages/keras/wrappers/scikit_learn.py\", line 236, in fit\n",
            "    return super(KerasClassifier, self).fit(x, y, **kwargs)\n",
            "  File \"/usr/local/lib/python3.7/dist-packages/keras/wrappers/scikit_learn.py\", line 164, in fit\n",
            "    history = self.model.fit(x, y, **fit_args)\n",
            "  File \"/usr/local/lib/python3.7/dist-packages/keras/utils/traceback_utils.py\", line 67, in error_handler\n",
            "    raise e.with_traceback(filtered_tb) from None\n",
            "  File \"/usr/local/lib/python3.7/dist-packages/tensorflow/python/framework/func_graph.py\", line 1147, in autograph_handler\n",
            "    raise e.ag_error_metadata.to_exception(e)\n",
            "ValueError: in user code:\n",
            "\n",
            "    File \"/usr/local/lib/python3.7/dist-packages/keras/engine/training.py\", line 1021, in train_function  *\n",
            "        return step_function(self, iterator)\n",
            "    File \"/usr/local/lib/python3.7/dist-packages/keras/engine/training.py\", line 1010, in step_function  **\n",
            "        outputs = model.distribute_strategy.run(run_step, args=(data,))\n",
            "    File \"/usr/local/lib/python3.7/dist-packages/keras/engine/training.py\", line 1000, in run_step  **\n",
            "        outputs = model.train_step(data)\n",
            "    File \"/usr/local/lib/python3.7/dist-packages/keras/engine/training.py\", line 863, in train_step\n",
            "        self.optimizer.minimize(loss, self.trainable_variables, tape=tape)\n",
            "    File \"/usr/local/lib/python3.7/dist-packages/keras/optimizer_v2/optimizer_v2.py\", line 532, in minimize\n",
            "        return self.apply_gradients(grads_and_vars, name=name)\n",
            "    File \"/usr/local/lib/python3.7/dist-packages/keras/optimizer_v2/optimizer_v2.py\", line 675, in apply_gradients\n",
            "        name=name)\n",
            "    File \"/usr/local/lib/python3.7/dist-packages/keras/optimizer_v2/optimizer_v2.py\", line 717, in _distributed_apply\n",
            "        var, apply_grad_to_update_var, args=(grad,), group=False)\n",
            "    File \"/usr/local/lib/python3.7/dist-packages/keras/optimizer_v2/optimizer_v2.py\", line 702, in apply_grad_to_update_var  **\n",
            "        return var.assign(var.constraint(var))\n",
            "    File \"/usr/local/lib/python3.7/dist-packages/keras/constraints.py\", line 112, in __call__\n",
            "        desired = backend.clip(norms, 0, self.max_value)\n",
            "    File \"/usr/local/lib/python3.7/dist-packages/keras/backend.py\", line 2909, in clip\n",
            "        return tf.clip_by_value(x, min_value, max_value)\n",
            "\n",
            "    ValueError: Dimensions must be equal, but are 20 and 5 for '{{node Adam/Adam/update/clip_by_value/Minimum}} = Minimum[T=DT_FLOAT](Adam/Adam/update/Sqrt, Adam/Adam/update/clip_by_value/Minimum/y)' with input shapes: [1,20], [5].\n",
            "\n",
            "\n",
            "--------------------------------------------------------------------------------\n",
            "3 fits failed with the following error:\n",
            "Traceback (most recent call last):\n",
            "  File \"/usr/local/lib/python3.7/dist-packages/sklearn/model_selection/_validation.py\", line 680, in _fit_and_score\n",
            "    estimator.fit(X_train, y_train, **fit_params)\n",
            "  File \"/usr/local/lib/python3.7/dist-packages/keras/wrappers/scikit_learn.py\", line 236, in fit\n",
            "    return super(KerasClassifier, self).fit(x, y, **kwargs)\n",
            "  File \"/usr/local/lib/python3.7/dist-packages/keras/wrappers/scikit_learn.py\", line 164, in fit\n",
            "    history = self.model.fit(x, y, **fit_args)\n",
            "  File \"/usr/local/lib/python3.7/dist-packages/keras/utils/traceback_utils.py\", line 67, in error_handler\n",
            "    raise e.with_traceback(filtered_tb) from None\n",
            "  File \"/usr/local/lib/python3.7/dist-packages/tensorflow/python/framework/func_graph.py\", line 1147, in autograph_handler\n",
            "    raise e.ag_error_metadata.to_exception(e)\n",
            "ValueError: in user code:\n",
            "\n",
            "    File \"/usr/local/lib/python3.7/dist-packages/keras/engine/training.py\", line 1021, in train_function  *\n",
            "        return step_function(self, iterator)\n",
            "    File \"/usr/local/lib/python3.7/dist-packages/keras/engine/training.py\", line 1010, in step_function  **\n",
            "        outputs = model.distribute_strategy.run(run_step, args=(data,))\n",
            "    File \"/usr/local/lib/python3.7/dist-packages/keras/engine/training.py\", line 1000, in run_step  **\n",
            "        outputs = model.train_step(data)\n",
            "    File \"/usr/local/lib/python3.7/dist-packages/keras/engine/training.py\", line 863, in train_step\n",
            "        self.optimizer.minimize(loss, self.trainable_variables, tape=tape)\n",
            "    File \"/usr/local/lib/python3.7/dist-packages/keras/optimizer_v2/optimizer_v2.py\", line 532, in minimize\n",
            "        return self.apply_gradients(grads_and_vars, name=name)\n",
            "    File \"/usr/local/lib/python3.7/dist-packages/keras/optimizer_v2/optimizer_v2.py\", line 675, in apply_gradients\n",
            "        name=name)\n",
            "    File \"/usr/local/lib/python3.7/dist-packages/keras/optimizer_v2/optimizer_v2.py\", line 717, in _distributed_apply\n",
            "        var, apply_grad_to_update_var, args=(grad,), group=False)\n",
            "    File \"/usr/local/lib/python3.7/dist-packages/keras/optimizer_v2/optimizer_v2.py\", line 702, in apply_grad_to_update_var  **\n",
            "        return var.assign(var.constraint(var))\n",
            "    File \"/usr/local/lib/python3.7/dist-packages/keras/constraints.py\", line 112, in __call__\n",
            "        desired = backend.clip(norms, 0, self.max_value)\n",
            "    File \"/usr/local/lib/python3.7/dist-packages/keras/backend.py\", line 2909, in clip\n",
            "        return tf.clip_by_value(x, min_value, max_value)\n",
            "\n",
            "    ValueError: Dimensions must be equal, but are 25 and 5 for '{{node Adam/Adam/update/clip_by_value/Minimum}} = Minimum[T=DT_FLOAT](Adam/Adam/update/Sqrt, Adam/Adam/update/clip_by_value/Minimum/y)' with input shapes: [1,25], [5].\n",
            "\n",
            "\n",
            "--------------------------------------------------------------------------------\n",
            "3 fits failed with the following error:\n",
            "Traceback (most recent call last):\n",
            "  File \"/usr/local/lib/python3.7/dist-packages/sklearn/model_selection/_validation.py\", line 680, in _fit_and_score\n",
            "    estimator.fit(X_train, y_train, **fit_params)\n",
            "  File \"/usr/local/lib/python3.7/dist-packages/keras/wrappers/scikit_learn.py\", line 236, in fit\n",
            "    return super(KerasClassifier, self).fit(x, y, **kwargs)\n",
            "  File \"/usr/local/lib/python3.7/dist-packages/keras/wrappers/scikit_learn.py\", line 164, in fit\n",
            "    history = self.model.fit(x, y, **fit_args)\n",
            "  File \"/usr/local/lib/python3.7/dist-packages/keras/utils/traceback_utils.py\", line 67, in error_handler\n",
            "    raise e.with_traceback(filtered_tb) from None\n",
            "  File \"/usr/local/lib/python3.7/dist-packages/tensorflow/python/framework/func_graph.py\", line 1147, in autograph_handler\n",
            "    raise e.ag_error_metadata.to_exception(e)\n",
            "ValueError: in user code:\n",
            "\n",
            "    File \"/usr/local/lib/python3.7/dist-packages/keras/engine/training.py\", line 1021, in train_function  *\n",
            "        return step_function(self, iterator)\n",
            "    File \"/usr/local/lib/python3.7/dist-packages/keras/engine/training.py\", line 1010, in step_function  **\n",
            "        outputs = model.distribute_strategy.run(run_step, args=(data,))\n",
            "    File \"/usr/local/lib/python3.7/dist-packages/keras/engine/training.py\", line 1000, in run_step  **\n",
            "        outputs = model.train_step(data)\n",
            "    File \"/usr/local/lib/python3.7/dist-packages/keras/engine/training.py\", line 863, in train_step\n",
            "        self.optimizer.minimize(loss, self.trainable_variables, tape=tape)\n",
            "    File \"/usr/local/lib/python3.7/dist-packages/keras/optimizer_v2/optimizer_v2.py\", line 532, in minimize\n",
            "        return self.apply_gradients(grads_and_vars, name=name)\n",
            "    File \"/usr/local/lib/python3.7/dist-packages/keras/optimizer_v2/optimizer_v2.py\", line 675, in apply_gradients\n",
            "        name=name)\n",
            "    File \"/usr/local/lib/python3.7/dist-packages/keras/optimizer_v2/optimizer_v2.py\", line 717, in _distributed_apply\n",
            "        var, apply_grad_to_update_var, args=(grad,), group=False)\n",
            "    File \"/usr/local/lib/python3.7/dist-packages/keras/optimizer_v2/optimizer_v2.py\", line 702, in apply_grad_to_update_var  **\n",
            "        return var.assign(var.constraint(var))\n",
            "    File \"/usr/local/lib/python3.7/dist-packages/keras/constraints.py\", line 112, in __call__\n",
            "        desired = backend.clip(norms, 0, self.max_value)\n",
            "    File \"/usr/local/lib/python3.7/dist-packages/keras/backend.py\", line 2909, in clip\n",
            "        return tf.clip_by_value(x, min_value, max_value)\n",
            "\n",
            "    ValueError: Dimensions must be equal, but are 30 and 5 for '{{node Adam/Adam/update/clip_by_value/Minimum}} = Minimum[T=DT_FLOAT](Adam/Adam/update/Sqrt, Adam/Adam/update/clip_by_value/Minimum/y)' with input shapes: [1,30], [5].\n",
            "\n",
            "\n",
            "  warnings.warn(some_fits_failed_message, FitFailedWarning)\n",
            "/usr/local/lib/python3.7/dist-packages/sklearn/model_selection/_search.py:972: UserWarning: One or more of the test scores are non-finite: [     nan 0.703125      nan      nan      nan      nan      nan]\n",
            "  category=UserWarning,\n"
          ]
        },
        {
          "output_type": "stream",
          "name": "stdout",
          "text": [
            "0.703125 {'neuron': 5}\n"
          ]
        }
      ]
    },
    {
      "cell_type": "markdown",
      "source": [
        "### Tuning learning rate and momentum"
      ],
      "metadata": {
        "id": "l0A8J8MRrxDW"
      }
    },
    {
      "cell_type": "code",
      "source": [
        "from tensorflow.keras.optimizers import SGD\n",
        "\n",
        "def Creat_modell(learn_rate,momentum):\n",
        "  model=Sequential()\n",
        "  model.add(Dense(5,input_dim=8,activation='softplus',kernel_initializer='uniform',\n",
        "                  kernel_constraint=tf.keras.constraints.MaxNorm(weight_constraint)))\n",
        "  model.add(Dropout(0.2))\n",
        "  model.add(Dense(1,activation='sigmoid',kernel_initializer='uniform'))\n",
        "  model.compile(loss='binary_crossentropy',optimizer=SGD(learn_rate,momentum),metrics=['accuracy'])\n",
        "  return model"
      ],
      "metadata": {
        "id": "TSq_tElery7e"
      },
      "execution_count": 36,
      "outputs": []
    },
    {
      "cell_type": "code",
      "source": [
        "model=KerasClassifier(build_fn=Creat_modell,epochs=100,batch_size=10,verbose=0)\n",
        "learn_rate=[0.001,0.01,0.1,0.2,0.3]\n",
        "momentum=[0.0,0.2,0.4,0.6,0.8,0.9]\n",
        "param_grid=dict(learn_rate=learn_rate,momentum=momentum)\n",
        "grid=GridSearchCV(estimator=model,param_grid=param_grid,n_jobs=-1,cv=3)\n",
        "grid_resl=grid.fit(x,y)\n",
        "print(grid_resl.best_score_,grid_resl.best_params_)"
      ],
      "metadata": {
        "id": "GbyrxSsiwNvm",
        "outputId": "042ad5ee-f754-403e-a505-d81818e7e072",
        "colab": {
          "base_uri": "https://localhost:8080/"
        }
      },
      "execution_count": 37,
      "outputs": [
        {
          "output_type": "stream",
          "name": "stderr",
          "text": [
            "/usr/local/lib/python3.7/dist-packages/ipykernel_launcher.py:1: DeprecationWarning: KerasClassifier is deprecated, use Sci-Keras (https://github.com/adriangb/scikeras) instead. See https://www.adriangb.com/scikeras/stable/migration.html for help migrating.\n",
            "  \"\"\"Entry point for launching an IPython kernel.\n"
          ]
        },
        {
          "output_type": "stream",
          "name": "stdout",
          "text": [
            "0.68359375 {'learn_rate': 0.001, 'momentum': 0.2}\n"
          ]
        }
      ]
    },
    {
      "cell_type": "code",
      "source": [
        ""
      ],
      "metadata": {
        "id": "9sEjSiMUw0W8"
      },
      "execution_count": 37,
      "outputs": []
    }
  ]
}